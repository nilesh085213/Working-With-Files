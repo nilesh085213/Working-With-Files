{
 "cells": [
  {
   "cell_type": "code",
   "execution_count": 1,
   "id": "98c26a8e-f518-44f3-aeee-81c91bfe6961",
   "metadata": {},
   "outputs": [],
   "source": [
    "f = open(\"test.text\", 'w')"
   ]
  },
  {
   "cell_type": "code",
   "execution_count": 2,
   "id": "b4316277-adfc-40b3-b77c-c0a0a96edc2b",
   "metadata": {},
   "outputs": [
    {
     "data": {
      "text/plain": [
       "'/home/jovyan/work'"
      ]
     },
     "execution_count": 2,
     "metadata": {},
     "output_type": "execute_result"
    }
   ],
   "source": [
    "pwd"
   ]
  },
  {
   "cell_type": "code",
   "execution_count": 3,
   "id": "23b67c43-c777-4328-b014-10c4ac278b76",
   "metadata": {},
   "outputs": [
    {
     "name": "stdout",
     "output_type": "stream",
     "text": [
      "'property_decorator_getters, _setters, And deletes.ipynb'\n",
      " README.md\n",
      " sample-code.ipynb\n",
      "'special (magic_dunder) method.ipynb'\n",
      "'static method.ipynb'\n",
      " test.text\n",
      "'Working with files.ipynb'\n"
     ]
    }
   ],
   "source": [
    "ls"
   ]
  },
  {
   "cell_type": "code",
   "execution_count": 4,
   "id": "cf042847-5cb7-46f7-a16f-ce782e0dea1c",
   "metadata": {},
   "outputs": [
    {
     "name": "stdout",
     "output_type": "stream",
     "text": [
      "[Errno 2] No such file or directory: 'work'\n",
      "/home/jovyan/work\n"
     ]
    }
   ],
   "source": [
    "cd work"
   ]
  },
  {
   "cell_type": "code",
   "execution_count": 5,
   "id": "801c0250-8c25-4c0b-bc04-6c0f86f469a5",
   "metadata": {},
   "outputs": [
    {
     "name": "stdout",
     "output_type": "stream",
     "text": [
      "'property_decorator_getters, _setters, And deletes.ipynb'\n",
      " README.md\n",
      " sample-code.ipynb\n",
      "'special (magic_dunder) method.ipynb'\n",
      "'static method.ipynb'\n",
      " test.text\n",
      "'Working with files.ipynb'\n"
     ]
    }
   ],
   "source": [
    "ls"
   ]
  },
  {
   "cell_type": "code",
   "execution_count": 16,
   "id": "1855ba8c-efe1-44e6-9b7b-13654fcdc645",
   "metadata": {},
   "outputs": [
    {
     "ename": "ValueError",
     "evalue": "I/O operation on closed file.",
     "output_type": "error",
     "traceback": [
      "\u001b[0;31m---------------------------------------------------------------------------\u001b[0m",
      "\u001b[0;31mValueError\u001b[0m                                Traceback (most recent call last)",
      "Cell \u001b[0;32mIn[16], line 1\u001b[0m\n\u001b[0;32m----> 1\u001b[0m \u001b[43mf\u001b[49m\u001b[38;5;241;43m.\u001b[39;49m\u001b[43mwrite\u001b[49m\u001b[43m(\u001b[49m\u001b[38;5;124;43m\"\u001b[39;49m\u001b[38;5;124;43mthis is my first file to write\u001b[39;49m\u001b[38;5;124;43m\"\u001b[39;49m\u001b[43m)\u001b[49m\n",
      "\u001b[0;31mValueError\u001b[0m: I/O operation on closed file."
     ]
    }
   ],
   "source": [
    "f.write(\"this is my first file to write\")"
   ]
  },
  {
   "cell_type": "code",
   "execution_count": 17,
   "id": "448e13eb-8bce-4ba2-82af-9972cb513669",
   "metadata": {},
   "outputs": [],
   "source": [
    "f.close()"
   ]
  },
  {
   "cell_type": "code",
   "execution_count": 18,
   "id": "bfe3739b-a5ce-4407-a177-244470947ad0",
   "metadata": {},
   "outputs": [],
   "source": [
    "f = open(\"test.text\", 'w')"
   ]
  },
  {
   "cell_type": "code",
   "execution_count": 19,
   "id": "c4ec0201-462d-412d-9249-213728bb6c05",
   "metadata": {},
   "outputs": [
    {
     "data": {
      "text/plain": [
       "15"
      ]
     },
     "execution_count": 19,
     "metadata": {},
     "output_type": "execute_result"
    }
   ],
   "source": [
    "f.write(\"this is my file\")"
   ]
  },
  {
   "cell_type": "code",
   "execution_count": 20,
   "id": "1e656c3c-b036-4061-9559-1bba98113dce",
   "metadata": {},
   "outputs": [],
   "source": [
    "f.close()"
   ]
  },
  {
   "cell_type": "code",
   "execution_count": 21,
   "id": "7e8cf5dc-82ba-4ecb-970c-b506864f27aa",
   "metadata": {},
   "outputs": [],
   "source": [
    "f = open(\"test.text\", 'a')"
   ]
  },
  {
   "cell_type": "code",
   "execution_count": 23,
   "id": "b15259ea-b0a1-4e0f-9ea7-d1ccec5d2a6b",
   "metadata": {},
   "outputs": [
    {
     "data": {
      "text/plain": [
       "438"
      ]
     },
     "execution_count": 23,
     "metadata": {},
     "output_type": "execute_result"
    }
   ],
   "source": [
    "f.write(\"Data science is the study of data to extract meaningful insights for business. It is a multidisciplinary approach that combines principles and practices from the fields of mathematics, statistics, artificial intelligence, and computer engineering to analyze large amounts of data. This analysis helps data scientists to ask and answer questions like what happened, why it happened, what will happen, and what can be done with the results.\")"
   ]
  },
  {
   "cell_type": "code",
   "execution_count": 24,
   "id": "1fd7f4ec-71f8-4e24-8fde-b8aae4864606",
   "metadata": {},
   "outputs": [],
   "source": [
    "f.close()"
   ]
  },
  {
   "cell_type": "code",
   "execution_count": 25,
   "id": "f6e84955-89ba-4260-b6bf-09f9c2a9d359",
   "metadata": {},
   "outputs": [],
   "source": [
    "f = open(\"test.text\", 'r')"
   ]
  },
  {
   "cell_type": "code",
   "execution_count": 26,
   "id": "afab1d7a-ca0a-40ff-b2eb-76da836e906c",
   "metadata": {},
   "outputs": [],
   "source": [
    "data = open(\"test.text\", 'r')"
   ]
  },
  {
   "cell_type": "code",
   "execution_count": 27,
   "id": "b98c0288-a08a-47f4-9093-f0cefa5daeb0",
   "metadata": {},
   "outputs": [
    {
     "data": {
      "text/plain": [
       "'this is my fileData science is the study of data to extract meaningful insights for business. It is a multidisciplinary approach that combines principles and practices from the fields of mathematics, statistics, artificial intelligence, and computer engineering to analyze large amounts of data. This analysis helps data scientists to ask and answer questions like what happened, why it happened, what will happen, and what can be done with the results.'"
      ]
     },
     "execution_count": 27,
     "metadata": {},
     "output_type": "execute_result"
    }
   ],
   "source": [
    "data.read()"
   ]
  },
  {
   "cell_type": "code",
   "execution_count": 30,
   "id": "bba7bf05-3adc-44b5-b4b8-713c0de2a33e",
   "metadata": {},
   "outputs": [
    {
     "data": {
      "text/plain": [
       "'this is my fileData science is the study of data to extract meaningful insights for business. It is a multidisciplinary approach that combines principles and practices from the fields of mathematics, statistics, artificial intelligence, and computer engineering to analyze large amounts of data. This analysis helps data scientists to ask and answer questions like what happened, why it happened, what will happen, and what can be done with the results.'"
      ]
     },
     "execution_count": 30,
     "metadata": {},
     "output_type": "execute_result"
    }
   ],
   "source": [
    "data.readline()"
   ]
  },
  {
   "cell_type": "code",
   "execution_count": 29,
   "id": "c8e6b8d5-8e4f-4cb4-aa63-4a4ab05c935a",
   "metadata": {},
   "outputs": [
    {
     "data": {
      "text/plain": [
       "0"
      ]
     },
     "execution_count": 29,
     "metadata": {},
     "output_type": "execute_result"
    }
   ],
   "source": [
    "data.seek(0)"
   ]
  },
  {
   "cell_type": "code",
   "execution_count": 31,
   "id": "a79eb486-75fe-4f1b-85c8-a2ace52a32a0",
   "metadata": {},
   "outputs": [
    {
     "data": {
      "text/plain": [
       "''"
      ]
     },
     "execution_count": 31,
     "metadata": {},
     "output_type": "execute_result"
    }
   ],
   "source": [
    "data.readline()"
   ]
  },
  {
   "cell_type": "code",
   "execution_count": 32,
   "id": "44750963-efab-4ef5-8b65-b338354f775a",
   "metadata": {},
   "outputs": [
    {
     "data": {
      "text/plain": [
       "10"
      ]
     },
     "execution_count": 32,
     "metadata": {},
     "output_type": "execute_result"
    }
   ],
   "source": [
    "data.seek(10)"
   ]
  },
  {
   "cell_type": "code",
   "execution_count": 33,
   "id": "0232e55e-0a61-47df-b3ac-870648507795",
   "metadata": {},
   "outputs": [
    {
     "data": {
      "text/plain": [
       "' fileData science is the study of data to extract meaningful insights for business. It is a multidisciplinary approach that combines principles and practices from the fields of mathematics, statistics, artificial intelligence, and computer engineering to analyze large amounts of data. This analysis helps data scientists to ask and answer questions like what happened, why it happened, what will happen, and what can be done with the results.'"
      ]
     },
     "execution_count": 33,
     "metadata": {},
     "output_type": "execute_result"
    }
   ],
   "source": [
    "data.readline()"
   ]
  },
  {
   "cell_type": "code",
   "execution_count": 34,
   "id": "ecadf371-3c3c-4edd-80ef-e65708af76a9",
   "metadata": {},
   "outputs": [],
   "source": [
    "data1 = open(\"test.text\", 'r')"
   ]
  },
  {
   "cell_type": "code",
   "execution_count": 36,
   "id": "fb1db8a9-49eb-4786-a774-959fc9155d2b",
   "metadata": {},
   "outputs": [
    {
     "name": "stdout",
     "output_type": "stream",
     "text": [
      "this is my fileData science is the study of data to extract meaningful insights for business. It is a multidisciplinary approach that combines principles and practices from the fields of mathematics, statistics, artificial intelligence, and computer engineering to analyze large amounts of data. This analysis helps data scientists to ask and answer questions like what happened, why it happened, what will happen, and what can be done with the results.\n"
     ]
    }
   ],
   "source": [
    "for i in data1 :\n",
    "    print(i)"
   ]
  },
  {
   "cell_type": "code",
   "execution_count": 44,
   "id": "d52e2290-1108-4dab-8458-ce6bae1d6514",
   "metadata": {},
   "outputs": [],
   "source": [
    "import os"
   ]
  },
  {
   "cell_type": "code",
   "execution_count": 38,
   "id": "5adc0c2f-325a-4997-a150-314d8f08915f",
   "metadata": {},
   "outputs": [
    {
     "data": {
      "text/plain": [
       "453"
      ]
     },
     "execution_count": 38,
     "metadata": {},
     "output_type": "execute_result"
    }
   ],
   "source": [
    "os.path.getsize(\"test.text\")"
   ]
  },
  {
   "cell_type": "code",
   "execution_count": 39,
   "id": "5911695b-cc4a-482b-bbcc-fd35766f12e7",
   "metadata": {},
   "outputs": [],
   "source": [
    "os.remove(\"test.text\")"
   ]
  },
  {
   "cell_type": "code",
   "execution_count": 45,
   "id": "54bc37be-7c52-4b36-8704-0c4899ef6eed",
   "metadata": {},
   "outputs": [],
   "source": [
    "f = open(\"test1.text\",'w' )"
   ]
  },
  {
   "cell_type": "code",
   "execution_count": 46,
   "id": "d56b1daf-33ca-47f8-a749-f49aab9dab9e",
   "metadata": {},
   "outputs": [
    {
     "data": {
      "text/plain": [
       "453"
      ]
     },
     "execution_count": 46,
     "metadata": {},
     "output_type": "execute_result"
    }
   ],
   "source": [
    "f.write(\"this is my fileData science is the study of data to extract meaningful insights for business. It is a multidisciplinary approach that combines principles and practices from the fields of mathematics, statistics, artificial intelligence, and computer engineering to analyze large amounts of data. This analysis helps data scientists to ask and answer questions like what happened, why it happened, what will happen, and what can be done with the results.\")"
   ]
  },
  {
   "cell_type": "code",
   "execution_count": 47,
   "id": "d6ea9fb8-9393-4855-a66c-31dbbd19edc5",
   "metadata": {},
   "outputs": [],
   "source": [
    "f.close()"
   ]
  },
  {
   "cell_type": "code",
   "execution_count": 48,
   "id": "90fb5b5e-2b31-48f5-858d-eec91a02350e",
   "metadata": {},
   "outputs": [],
   "source": [
    "os.rename(\"test1.text\", \"new.text\")"
   ]
  },
  {
   "cell_type": "code",
   "execution_count": 49,
   "id": "3d098290-7227-4e07-90d4-6de374a2c059",
   "metadata": {},
   "outputs": [],
   "source": [
    "import shutil"
   ]
  },
  {
   "cell_type": "code",
   "execution_count": 50,
   "id": "72686e55-2130-4362-8c48-6b5788a2d1e7",
   "metadata": {},
   "outputs": [
    {
     "data": {
      "text/plain": [
       "'copy_new,text'"
      ]
     },
     "execution_count": 50,
     "metadata": {},
     "output_type": "execute_result"
    }
   ],
   "source": [
    "shutil.copy(\"new.text\", \"copy_new,text\")"
   ]
  },
  {
   "cell_type": "code",
   "execution_count": 52,
   "id": "42f9ea5a-569f-4627-a43d-407340b80ce5",
   "metadata": {},
   "outputs": [
    {
     "name": "stdout",
     "output_type": "stream",
     "text": [
      "this is my fileData science is the study of data to extract meaningful insights for business. It is a multidisciplinary approach that combines principles and practices from the fields of mathematics, statistics, artificial intelligence, and computer engineering to analyze large amounts of data. This analysis helps data scientists to ask and answer questions like what happened, why it happened, what will happen, and what can be done with the results.\n"
     ]
    }
   ],
   "source": [
    "with open(\"new.text\", \"r\") as f :\n",
    "    print(f.read())"
   ]
  },
  {
   "cell_type": "code",
   "execution_count": null,
   "id": "f33e3c81-ba5b-4d24-8bd7-d408e7fff6fe",
   "metadata": {},
   "outputs": [],
   "source": []
  }
 ],
 "metadata": {
  "kernelspec": {
   "display_name": "Python 3 (ipykernel)",
   "language": "python",
   "name": "python3"
  },
  "language_info": {
   "codemirror_mode": {
    "name": "ipython",
    "version": 3
   },
   "file_extension": ".py",
   "mimetype": "text/x-python",
   "name": "python",
   "nbconvert_exporter": "python",
   "pygments_lexer": "ipython3",
   "version": "3.10.8"
  }
 },
 "nbformat": 4,
 "nbformat_minor": 5
}
